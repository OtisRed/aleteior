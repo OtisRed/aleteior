{
 "cells": [
  {
   "cell_type": "markdown",
   "metadata": {
    "toc": true
   },
   "source": [
    "<h1>Table of Contents<span class=\"tocSkip\"></span></h1>\n",
    "<div class=\"toc\" style=\"margin-top: 1em;\"><ul class=\"toc-item\"><li><span><a href=\"#Polska-Strefa-Inwestycji\" data-toc-modified-id=\"Polska-Strefa-Inwestycji-1\"><span class=\"toc-item-num\">1&nbsp;&nbsp;</span>Polska Strefa Inwestycji</a></span></li><li><span><a href=\"#Co-się-zmieniło?\" data-toc-modified-id=\"Co-się-zmieniło?-2\"><span class=\"toc-item-num\">2&nbsp;&nbsp;</span>Co się zmieniło?</a></span></li><li><span><a href=\"#Czy-SSE-i-Polska-Strefa-Inwestycji-są-potrzebne?\" data-toc-modified-id=\"Czy-SSE-i-Polska-Strefa-Inwestycji-są-potrzebne?-3\"><span class=\"toc-item-num\">3&nbsp;&nbsp;</span>Czy SSE i Polska Strefa Inwestycji są potrzebne?</a></span></li><li><span><a href=\"#Dane-dotyczące-bezrobocia\" data-toc-modified-id=\"Dane-dotyczące-bezrobocia-4\"><span class=\"toc-item-num\">4&nbsp;&nbsp;</span>Dane dotyczące bezrobocia</a></span></li><li><span><a href=\"#Qgis\" data-toc-modified-id=\"Qgis-5\"><span class=\"toc-item-num\">5&nbsp;&nbsp;</span>Qgis</a></span></li><li><span><a href=\"#Przygotowanie-Tabeli-GUS\" data-toc-modified-id=\"Przygotowanie-Tabeli-GUS-6\"><span class=\"toc-item-num\">6&nbsp;&nbsp;</span>Przygotowanie Tabeli GUS</a></span></li><li><span><a href=\"#Łączenie-tabel\" data-toc-modified-id=\"Łączenie-tabel-7\"><span class=\"toc-item-num\">7&nbsp;&nbsp;</span>Łączenie tabel</a></span></li><li><span><a href=\"#I-nie-widać-zaborów\" data-toc-modified-id=\"I-nie-widać-zaborów-8\"><span class=\"toc-item-num\">8&nbsp;&nbsp;</span>I nie widać zaborów</a></span></li><li><span><a href=\"#Bibliografia\" data-toc-modified-id=\"Bibliografia-9\"><span class=\"toc-item-num\">9&nbsp;&nbsp;</span>Bibliografia</a></span></li></ul></div>"
   ]
  },
  {
   "cell_type": "markdown",
   "metadata": {},
   "source": [
    "<div class=\"toc\" style=\"margin-top: 1em;\"><ul class=\"toc-item\"><li><span><a href=\"#Polska-Strefa-Inwestycji\" data-toc-modified-id=\"Polska-Strefa-Inwestycji-1\"><span class=\"toc-item-num\">1&nbsp;&nbsp;</span>Polska Strefa Inwestycji</a></span></li><li><span><a href=\"#Co-się-zmieniło?\" data-toc-modified-id=\"Co-się-zmieniło?-2\"><span class=\"toc-item-num\">2&nbsp;&nbsp;</span>Co się zmieniło?</a></span></li><li><span><a href=\"#Czy-SSE-i-Polska-Strefa-Inwestycji-są-potrzebne?\" data-toc-modified-id=\"Czy-SSE-i-Polska-Strefa-Inwestycji-są-potrzebne?-3\"><span class=\"toc-item-num\">3&nbsp;&nbsp;</span>Czy SSE i Polska Strefa Inwestycji są potrzebne?</a></span></li><li><span><a href=\"#Dane-dotyczące-bezrobocia\" data-toc-modified-id=\"Dane-dotyczące-bezrobocia-4\"><span class=\"toc-item-num\">4&nbsp;&nbsp;</span>Dane dotyczące bezrobocia</a></span></li><li><span><a href=\"#Qgis\" data-toc-modified-id=\"Qgis-5\"><span class=\"toc-item-num\">5&nbsp;&nbsp;</span>Qgis</a></span></li><li><span><a href=\"#Przygotowanie-Tabeli-GUS\" data-toc-modified-id=\"Przygotowanie-Tabeli-GUS-6\"><span class=\"toc-item-num\">6&nbsp;&nbsp;</span>Przygotowanie Tabeli GUS</a></span></li><li><span><a href=\"#Łączenie-tabel\" data-toc-modified-id=\"Łączenie-tabel-7\"><span class=\"toc-item-num\">7&nbsp;&nbsp;</span>Łączenie tabel</a></span></li><li><span><a href=\"#I-nie-widać-zaborów\" data-toc-modified-id=\"I-nie-widać-zaborów-8\"><span class=\"toc-item-num\">8&nbsp;&nbsp;</span>I nie widać zaborów</a></span></li><li><span><a href=\"#Bibliografia\" data-toc-modified-id=\"Bibliografia-9\"><span class=\"toc-item-num\">9&nbsp;&nbsp;</span>Bibliografia</a></span></li></ul></div>"
   ]
  },
  {
   "cell_type": "markdown",
   "metadata": {},
   "source": [
    "W tym poście zobaczysz,\n",
    "1. jak stworzyć prostą mapę w QGIS,\n",
    "2. w jaki sposób przeanalizować oraz oczyścić dane w xlrd i pandas. "
   ]
  },
  {
   "cell_type": "markdown",
   "metadata": {},
   "source": [
    "## Polska Strefa Inwestycji"
   ]
  },
  {
   "cell_type": "markdown",
   "metadata": {},
   "source": [
    "Pod pojęciem Polskiej Strefy Inwestycji kryje się instytucja wspierania przedsięwzięć gospodarczych na terenie całego kraju poprzez zagwarantowanie zwolnień z podatków dochodowych.\n",
    "\n",
    "Decyzje o objęciu inwestycji wsparciem wydaje minister właściwy do spraw gospodarki (obecnie Minister Przedsiębiorczości i Technologii)[[1](http://prawo.sejm.gov.pl/isap.nsf/download.xsp/WDU20180000093/O/D20180093.pdf)] reprezentowany bezpośrednio przez Zarządzających Obszarami.\n",
    "\n",
    "Zarządzający Obszarami to spółki Skarbu Państwa zajmujace się dotychczas zarzadzaniem specjalnych stref ekonomicznych(SSE). Historycznie Polska Strefa Inwestycji __ewoluowała właśnie z koncepcji SSE__, gwarantujących zwolnienia podatkowe dla przedsiębiorców, którzy zdecydują się na stworzenie miejsc pracy i poniesienie odpowiednich nakładów inwestycyjnych w ramach swojej działalności.  "
   ]
  },
  {
   "cell_type": "markdown",
   "metadata": {},
   "source": [
    "## Co się zmieniło?\n",
    "\n",
    "<i>In plus</i>, inwestycję mozna przeprowadzić w każdym miejscu kraju. <i>In minus</i>, zasady przyznawania zwolnień podatkowych stały się jeszcze bardziej nieczytelne. \n",
    "\n",
    "Przedsiębiorca powinien spełnić kryteria ilościowe i kryteria jakościowe. Te pierwsze  wydają się być klarowne: __kryteria ilościowe__ oparte są o stopę bezrobocia w powiecie, w którym ma być przeprowadzona inwestycja. __Im większa__ stopa bezrobocia w stosunku do stopy bezrobocia w całym kraju, __tym mniejsza__ minimalna wartość wydatków kwalifikowanych, do których poniesienia zobligowany jest przedsiębiorca w ramach inwestycji objętej wsparciem.  Ustawa wprowadza aż 7 kategorii powiatów: \n",
    " \n",
    "Rodzaj powiatu|Stosunek stopy bezrobocia powiatu (SBP) <br> do stopy bezrobocia kraju (SBK) | Minimum wydatków do poniesienia\n",
    "-:|:-:|:-:\n",
    "1|SBP <=  60% SBK | co najmniej 100 mln zł;\n",
    "2|SBP <= 100% SBK| co najmniej 80 mln zł;\n",
    "3|SBP <= 130% SBK| co najmniej 60 mln zł;\n",
    "4|SBP <= 160% SBK| co najmniej 40 mln zł;\n",
    "5|SBP <= 200% SBK| co najmniej 20 mln zł;\n",
    "6|SBP <= 250% SBK| co najmniej 15 mln zł;\n",
    "7|SBP \\> 250% SBK|co najmniej 10 mln zł.\n",
    "\n",
    "Poziom przeciętnej stopy bezrobocia ocenia się na podstawie aktualnych opublikowanych danych dotyczących przeciętnej stopy bezrobocia w kraju oraz na terenie powiatów, zgodnie z obwieszczeniem Prezesa Głównego Urzędu Statystycznego ogłaszanym w Dzienniku Urzędowym Rzeczypospolitej Polskiej „Monitor Polski”.\n",
    "\n",
    "Minima wydatków inwestycyjnych do poniesienia moga zostać obniżone w czterech przypadkach:\n",
    "1. średniego przedsiębiorcy - o 80%\n",
    "2. małego przedsiębiorcy - o 95%\n",
    "3. mikroprzedsiębiorcy - o 98% \n",
    "4. inwestycji w zakresie nowoczesnych usług dla biznesu albo prac badawczych i rozwojowych (B+R) - o 95%.\n",
    "\n",
    "Czy przypadek 4 mozna kumulować z 1-3? __Nie wiem__. W uzasadnieniu nie ma o tym mowy, ale praktyka powinna ten problem rozwiąząć. Dla potrzeb wykonania mapy i kalkulatora przyjąłem, że <u>przypadek 4 jest odrębny</u> i nie można go łączyć z benefitami płynącymi z posiadania statusu mikro, małego i średniego przedsiębiorcy. "
   ]
  },
  {
   "cell_type": "markdown",
   "metadata": {},
   "source": [
    "W każdym razie przedsiębiorca __musi__ spełnić kryterium ilościowe, przy czy dodatkowo powinien spełnić kryteria jakościowe, za które Minister przyznaje punkty. \n",
    "\n",
    "Punktów do zdobycia jest 10 - za następujące kategorie:\n",
    "1. rozwój strukturalny (tworzenie wyspecjalizowanych miejsc pracy, stabilnego zatrudnienia, itd.) [3 punkty];\n",
    "2. rozwój naukowy (prowadzenie działalności B+R) [2 punkty];\n",
    "3. rozwój zrównoważony (przedsiębiorca jest mikro, małym / średnim rpzedsiębiorcą) [3 punkty];\n",
    "4. rozwój zasobów ludzkich (wspieranie pracowników w zdobywaniu wykształcenia i kwalifikacji zawodowych) [2 punkty]. \n",
    "\n",
    "Co istotne, przedsiębiorca nie musi uzyskać 100% możliwych punktów. Wystarczy 60%, 50% lub 40% w zależności od spełnienia dodatkowych wymagań (np. inwestycji na terenach z mniejszą intensywnością pomocy publicznej). \n",
    "\n",
    "Okres ważności decyzji o wsparciu ustala się na 10, 12 lub 15 lat. \n",
    "\n",
    "## Czy SSE i Polska Strefa Inwestycji są potrzebne?\n",
    "\n",
    "Nie mnie oceniać. W niniejszym wpisie chciałbym pokazać, jak można dla celów szybkiej prezentacji stworzyć w QGIS interaktywną, prostą mapę, która pomaga w decydowaniu się na inwestowanie w danym powiecie przy uwzględnieniu kryteriów ilościowych. "
   ]
  },
  {
   "cell_type": "markdown",
   "metadata": {},
   "source": [
    "## Dane dotyczące bezrobocia"
   ]
  },
  {
   "cell_type": "markdown",
   "metadata": {},
   "source": [
    "Te uzyskujemy ze [oficjalnej strony](https://stat.gov.pl/sygnalne/komunikaty-i-obwieszczenia/lista-komunikatow-i-obwieszczen/obwieszczenie-w-sprawie-przecietnej-stopy-bezrobocia-w-kraju-oraz-na-obszarze-powiatow-stan-na-dzien-30-czerwca-2017-roku,284,4.html). \n",
    "\n",
    "![img](pics/zrzut_z_gus.png)\n",
    "\n"
   ]
  },
  {
   "cell_type": "markdown",
   "metadata": {},
   "source": [
    "Dane niestety nie są zbyt przyjaźnie opakowane. Skopiuję je ręcznie do pliku (\"Tabela_GUS.xlsx\"). Tworzenie odrębnego skryptu służącego do pobrania informacji ze strony mogłoby się więcej nie przydać (niewykluczone, że w tym roku obwieszczenie będzie miało formę pliku csv)."
   ]
  },
  {
   "cell_type": "code",
   "execution_count": 11,
   "metadata": {},
   "outputs": [
    {
     "name": "stdout",
     "output_type": "stream",
     "text": [
      "[text:'Obszar powiatu', text:'Stopa bezrobocia']\n",
      "[number:1.0, number:2.0]\n",
      "[text:'POLSKA', number:7.0]\n",
      "[text:'\\xa0', text:'\\xa0']\n",
      "[text:'DOLNOŚLĄSKIE', number:6.3]\n",
      "[text:'\\xa0', text:'\\xa0']\n",
      "[text:'Bolesławiecki', number:4.8]\n",
      "[text:'Dzierżoniowski', number:8.3]\n",
      "[text:'Głogowski', number:9.8]\n",
      "[text:'Górowski', number:16.0]\n"
     ]
    }
   ],
   "source": [
    "import xlrd\n",
    "workbook = xlrd.open_workbook(\"dane/Tabela_GUS.xlsx\")\n",
    "dane_powiatowe = workbook.sheet_by_index(1)\n",
    "for i in range(0, 10):\n",
    "    print(dane_powiatowe.row(i))"
   ]
  },
  {
   "cell_type": "markdown",
   "metadata": {},
   "source": [
    "Zauważmy, że niepotrzebne nazwy są napisane kapitalikami (Polska i województwa). Wystarczy zatem wyeliminować z pola naszego zainteresowania dane napisane w ten właśnie sposób."
   ]
  },
  {
   "cell_type": "code",
   "execution_count": 12,
   "metadata": {
    "collapsed": true
   },
   "outputs": [],
   "source": [
    "dane_p = [dane_powiatowe.row(i) \n",
    "             for i in range(2, dane_powiatowe.nrows) \n",
    "                 if not (dane_powiatowe.row(i)[0].value.isupper())]"
   ]
  },
  {
   "cell_type": "markdown",
   "metadata": {},
   "source": [
    "Ponadto, pojawiają się również znaki \"\\xa0\" (tzw. twarde spacje), których również możemy się pozbyć."
   ]
  },
  {
   "cell_type": "code",
   "execution_count": 13,
   "metadata": {
    "collapsed": true
   },
   "outputs": [],
   "source": [
    "dane_p = [i for i in dane_p if not \"\\xa0\" == i[0].value]"
   ]
  },
  {
   "cell_type": "markdown",
   "metadata": {},
   "source": [
    "I dane wyglądają następująco :\n",
    "\n",
    "`[[text:'Bolesławiecki', number:4.8],\n",
    " [text:'Dzierżoniowski', number:8.3],\n",
    " [text:'Głogowski', number:9.8],\n",
    " [text:'Górowski', number:16.0],\n",
    " [text:'Jaworski', number:13.7],\n",
    " [text:'Jeleniogórski', number:9.8],\n",
    " [text:'Kamiennogórski', number:7.8 \n",
    " ...],`"
   ]
  },
  {
   "cell_type": "markdown",
   "metadata": {},
   "source": [
    "Do naszej mapy będziemy potrzebować z Tabeli GUS:\n",
    "1. informacji o stopie bezrobocia w danym powiecie;\n",
    "2. do jakiej kategorii należy powiat w odniesieniu do krajowej przeciętnej stopy bezrobocia (wynosi ona 7%). "
   ]
  },
  {
   "cell_type": "markdown",
   "metadata": {},
   "source": [
    "Najpierw jednak zastanówmy się, skąd weźmiemy mapę przedstawiającą granice powiatów. "
   ]
  },
  {
   "cell_type": "markdown",
   "metadata": {},
   "source": [
    "## Qgis "
   ]
  },
  {
   "cell_type": "markdown",
   "metadata": {},
   "source": [
    "QGIS jest oprogramowaniem napisanym w Pythonie, służącym do analizy i wizualizacji danych kartograficznych. \n",
    "\n",
    "Przygotowując niniejszy wpis, korzystałem z wersji dostępnej na Ubuntu (możesz ją zainstalowac korzystając z komendy `sudo apt-get update && sudo apt-get install qgis`). \n",
    "\n",
    "Samą mapę ściągniemy z oficjalnych źródeł państwowych (http://www.gugik.gov.pl/pzgik/dane-bez-oplat/dane-z-panstwowego-rejestru-granic-i-powierzchni-jednostek-podzialow-terytorialnych-kraju-prg).\n",
    "\n",
    "Po ściągnięciu i wypakowaniu danych PRG - plik powiaty.shp kopiujemy do naszego projektowego folderu. Otwieramy go w QGIS i ukazuje się ładna mapa powiatów.\n",
    "\n",
    "\n",
    "\n",
    "\n"
   ]
  },
  {
   "cell_type": "markdown",
   "metadata": {},
   "source": [
    "![img](pics/mapa_origin.png)"
   ]
  },
  {
   "cell_type": "markdown",
   "metadata": {},
   "source": [
    "Spójrzmy do danych, o które oparte jest rysowanie. W tym celu klikamy prawym przyciskiem na \"otwórz tabelę atrybutów\""
   ]
  },
  {
   "cell_type": "markdown",
   "metadata": {},
   "source": [
    "![pierwszy_krok](pics/otworz_liste_atrybutów.png)"
   ]
  },
  {
   "cell_type": "markdown",
   "metadata": {},
   "source": [
    "Tabela atrybutów pozostawia jednak wiele do życzenia:"
   ]
  },
  {
   "cell_type": "markdown",
   "metadata": {},
   "source": [
    "![tabela_atrybutów](pics/tabela_atrybutów.png)"
   ]
  },
  {
   "cell_type": "markdown",
   "metadata": {
    "collapsed": true
   },
   "source": [
    "QGIS ma problem ze sczytaniem polskich znaków. W eliminacji pomoze nam wtyczka do programu (\"Shapefile Encoding Fixer\"). Aby ją zaisntalować należy kliknąć w zakładkę \"Wtyczki\" >> \"Zarzadzaj wtyczkami\". \n",
    "Po udanej instalacji mamy do niej dostęp poprzez zakładkę \"Wtyczka\":\n",
    "    \n",
    "![wtyczka](pics/wtyczka.png)\n",
    "    "
   ]
  },
  {
   "cell_type": "markdown",
   "metadata": {},
   "source": [
    "Po klinięciu w \"Napraw kodowanie warstwy Shapefile\" wybieramy opcję stwórz plik CPG i 1250 (Eastern European Windows CP1250).\n"
   ]
  },
  {
   "cell_type": "markdown",
   "metadata": {},
   "source": [
    "\n",
    "![naprawianie](pics/naprawianie.png)\n"
   ]
  },
  {
   "cell_type": "markdown",
   "metadata": {},
   "source": [
    "Dzięki temu Tabela Atrybutów będzie obsługiwała polskie znaki.  "
   ]
  },
  {
   "cell_type": "markdown",
   "metadata": {},
   "source": [
    "![naprawiona_tabela](pics/naprawiona_tabela.png)"
   ]
  },
  {
   "cell_type": "markdown",
   "metadata": {},
   "source": [
    "## Przygotowanie Tabeli GUS"
   ]
  },
  {
   "cell_type": "markdown",
   "metadata": {},
   "source": [
    "Zanim przystąpimy do łączenia naszej Tabeli Atrybutów z poprzednią tabelą, musimy opracować funkcję, która dokona podziału powiatów ze względu na stopę bezrobocia. \n",
    "\n",
    "Stworzymy dwie funkcje obsługujące ten proces."
   ]
  },
  {
   "cell_type": "code",
   "execution_count": 14,
   "metadata": {},
   "outputs": [
    {
     "data": {
      "text/plain": [
       "[4.2, 7.0, 9.1, 11.200000000000001, 14.0, 17.5]"
      ]
     },
     "execution_count": 14,
     "metadata": {},
     "output_type": "execute_result"
    }
   ],
   "source": [
    "def determine_class_after_average_unemployment_rate(domestic_unemployment_rate):   \n",
    "    classes_based_on_unemployment = []\n",
    "    for ratio in [0.6, 1.0, 1.3, 1.6, 2.0, 2.5]:\n",
    "        classes_based_on_unemployment.append(ratio * domestic_unemployment_rate)\n",
    "    return classes_based_on_unemployment\n",
    "\n",
    "classes = determine_class_after_average_unemployment_rate(7.0)\n",
    "\n",
    "classes"
   ]
  },
  {
   "cell_type": "markdown",
   "metadata": {},
   "source": [
    "Druga funkcja będzie stwierdzać, do której klasy należy dany powiat."
   ]
  },
  {
   "cell_type": "code",
   "execution_count": 15,
   "metadata": {
    "collapsed": true
   },
   "outputs": [],
   "source": [
    "def assign_class(powiat_unemployment_ratio):\n",
    "    if classes[0] >= powiat_unemployment_ratio:\n",
    "        return \"I\"\n",
    "    elif classes[0] < powiat_unemployment_ratio <= classes[1]:\n",
    "        return \"II\"\n",
    "    elif classes[1] < powiat_unemployment_ratio <= classes[2]:\n",
    "        return \"III\"\n",
    "    elif classes[2] < powiat_unemployment_ratio <= classes[3]:\n",
    "        return \"IV\"\n",
    "    elif classes[3] < powiat_unemployment_ratio <= classes[4]:\n",
    "        return \"V\"\n",
    "    elif classes[4] < powiat_unemployment_ratio <= classes[5]:\n",
    "        return \"VI\"\n",
    "    elif classes[5] < powiat_unemployment_ratio:\n",
    "        return \"VII\""
   ]
  },
  {
   "cell_type": "code",
   "execution_count": 16,
   "metadata": {
    "collapsed": true
   },
   "outputs": [],
   "source": [
    "dane_p = [[i[0].value, i[1].value] for i in dane_p]"
   ]
  },
  {
   "cell_type": "code",
   "execution_count": 17,
   "metadata": {
    "collapsed": true,
    "scrolled": true
   },
   "outputs": [],
   "source": [
    "dane_p = [[i[0], i[1], assign_class(i[1])] for i in dane_p]"
   ]
  },
  {
   "cell_type": "markdown",
   "metadata": {},
   "source": [
    "## Łączenie tabel"
   ]
  },
  {
   "cell_type": "markdown",
   "metadata": {},
   "source": [
    "Teraz możemy łaczyć nasze tabele. Najpierw eksportujmy Tabelę Atrybutów z Qgis do pliku csv."
   ]
  },
  {
   "cell_type": "markdown",
   "metadata": {},
   "source": [
    "![zapis](pics/zapisywanie.png)"
   ]
  },
  {
   "cell_type": "markdown",
   "metadata": {},
   "source": [
    "![zapis_do_pliku](pics/konwersja_do_pliku.png)"
   ]
  },
  {
   "cell_type": "markdown",
   "metadata": {},
   "source": [
    "Pamiętajmy o ustawieniu kodowania na \"windows-1250\" oraz separatora na \"SEMICOLON\". Stworzony plik otwieramy w pandas. "
   ]
  },
  {
   "cell_type": "code",
   "execution_count": 18,
   "metadata": {
    "collapsed": true
   },
   "outputs": [],
   "source": [
    "import pandas as pd\n",
    "\n",
    "pd.options.mode.chained_assignment = None\n",
    "data = pd.read_csv(\"dane/dane_z_mapy.csv\", sep=\";\", encoding=\"cp1250\")\n",
    "dane_p = pd.DataFrame(dane_p, columns = [\"powiat\", \"unemployment_ratio\", \"class\"])"
   ]
  },
  {
   "cell_type": "code",
   "execution_count": 19,
   "metadata": {},
   "outputs": [
    {
     "data": {
      "text/html": [
       "<div>\n",
       "<style>\n",
       "    .dataframe thead tr:only-child th {\n",
       "        text-align: right;\n",
       "    }\n",
       "\n",
       "    .dataframe thead th {\n",
       "        text-align: left;\n",
       "    }\n",
       "\n",
       "    .dataframe tbody tr th {\n",
       "        vertical-align: top;\n",
       "    }\n",
       "</style>\n",
       "<table border=\"1\" class=\"dataframe\">\n",
       "  <thead>\n",
       "    <tr style=\"text-align: right;\">\n",
       "      <th></th>\n",
       "      <th>iip_przest</th>\n",
       "      <th>iip_identy</th>\n",
       "      <th>iip_wersja</th>\n",
       "      <th>jpt_sjr_ko</th>\n",
       "      <th>jpt_kod_je</th>\n",
       "      <th>jpt_nazwa_</th>\n",
       "      <th>jpt_nazw01</th>\n",
       "      <th>jpt_organ_</th>\n",
       "      <th>jpt_orga01</th>\n",
       "      <th>jpt_jor_id</th>\n",
       "      <th>...</th>\n",
       "      <th>jpt_kod_01</th>\n",
       "      <th>id_bufora_</th>\n",
       "      <th>id_bufor01</th>\n",
       "      <th>id_technic</th>\n",
       "      <th>jpt_opis</th>\n",
       "      <th>jpt_sps_ko</th>\n",
       "      <th>gra_ids</th>\n",
       "      <th>status_obi</th>\n",
       "      <th>opis_bledu</th>\n",
       "      <th>typ_bledu</th>\n",
       "    </tr>\n",
       "  </thead>\n",
       "  <tbody>\n",
       "    <tr>\n",
       "      <th>0</th>\n",
       "      <td>PL.PZGIK.200</td>\n",
       "      <td>07f182b1-9146-43e5-a62d-836c211f9ff1</td>\n",
       "      <td>2012-09-27T07:36:28+02:00</td>\n",
       "      <td>POW</td>\n",
       "      <td>226</td>\n",
       "      <td>złotoryjski</td>\n",
       "      <td>NaN</td>\n",
       "      <td>NaN</td>\n",
       "      <td>NZN</td>\n",
       "      <td>0.0</td>\n",
       "      <td>...</td>\n",
       "      <td>NaN</td>\n",
       "      <td>0.0</td>\n",
       "      <td>13888.0</td>\n",
       "      <td>0.0</td>\n",
       "      <td>829314</td>\n",
       "      <td>UZG</td>\n",
       "      <td>NaN</td>\n",
       "      <td>AKTUALNY</td>\n",
       "      <td>NaN</td>\n",
       "      <td>NaN</td>\n",
       "    </tr>\n",
       "    <tr>\n",
       "      <th>1</th>\n",
       "      <td>PL.PZGIK.200</td>\n",
       "      <td>c845cab0-9fbf-4123-9fc3-c70e57ad17fb</td>\n",
       "      <td>2012-09-27T07:36:28+02:00</td>\n",
       "      <td>POW</td>\n",
       "      <td>262</td>\n",
       "      <td>Legnica</td>\n",
       "      <td>NaN</td>\n",
       "      <td>NaN</td>\n",
       "      <td>NZN</td>\n",
       "      <td>0.0</td>\n",
       "      <td>...</td>\n",
       "      <td>NaN</td>\n",
       "      <td>0.0</td>\n",
       "      <td>13888.0</td>\n",
       "      <td>0.0</td>\n",
       "      <td>829315</td>\n",
       "      <td>UZG</td>\n",
       "      <td>NaN</td>\n",
       "      <td>AKTUALNY</td>\n",
       "      <td>NaN</td>\n",
       "      <td>NaN</td>\n",
       "    </tr>\n",
       "    <tr>\n",
       "      <th>2</th>\n",
       "      <td>PL.PZGIK.200</td>\n",
       "      <td>139e17ec-bbd6-410b-80c0-da7faea2a439</td>\n",
       "      <td>2012-09-27T07:36:28+02:00</td>\n",
       "      <td>POW</td>\n",
       "      <td>206</td>\n",
       "      <td>jeleniogórski</td>\n",
       "      <td>NaN</td>\n",
       "      <td>NaN</td>\n",
       "      <td>NZN</td>\n",
       "      <td>0.0</td>\n",
       "      <td>...</td>\n",
       "      <td>NaN</td>\n",
       "      <td>0.0</td>\n",
       "      <td>13888.0</td>\n",
       "      <td>0.0</td>\n",
       "      <td>829321</td>\n",
       "      <td>UZG</td>\n",
       "      <td>NaN</td>\n",
       "      <td>AKTUALNY</td>\n",
       "      <td>NaN</td>\n",
       "      <td>NaN</td>\n",
       "    </tr>\n",
       "    <tr>\n",
       "      <th>3</th>\n",
       "      <td>PL.PZGIK.200</td>\n",
       "      <td>65b5a197-3d86-401c-8cea-ea80c3b4bf7c</td>\n",
       "      <td>2012-09-27T07:36:28+02:00</td>\n",
       "      <td>POW</td>\n",
       "      <td>204</td>\n",
       "      <td>górowski</td>\n",
       "      <td>NaN</td>\n",
       "      <td>NaN</td>\n",
       "      <td>NZN</td>\n",
       "      <td>0.0</td>\n",
       "      <td>...</td>\n",
       "      <td>NaN</td>\n",
       "      <td>0.0</td>\n",
       "      <td>13888.0</td>\n",
       "      <td>0.0</td>\n",
       "      <td>829320</td>\n",
       "      <td>UZG</td>\n",
       "      <td>NaN</td>\n",
       "      <td>AKTUALNY</td>\n",
       "      <td>NaN</td>\n",
       "      <td>NaN</td>\n",
       "    </tr>\n",
       "    <tr>\n",
       "      <th>4</th>\n",
       "      <td>PL.PZGIK.200</td>\n",
       "      <td>258b68f9-31cb-4f37-bbdf-f1824805a0e4</td>\n",
       "      <td>2012-09-27T07:36:28+02:00</td>\n",
       "      <td>POW</td>\n",
       "      <td>214</td>\n",
       "      <td>oleśnicki</td>\n",
       "      <td>NaN</td>\n",
       "      <td>NaN</td>\n",
       "      <td>NZN</td>\n",
       "      <td>0.0</td>\n",
       "      <td>...</td>\n",
       "      <td>NaN</td>\n",
       "      <td>0.0</td>\n",
       "      <td>13888.0</td>\n",
       "      <td>0.0</td>\n",
       "      <td>829331</td>\n",
       "      <td>UZG</td>\n",
       "      <td>NaN</td>\n",
       "      <td>AKTUALNY</td>\n",
       "      <td>NaN</td>\n",
       "      <td>NaN</td>\n",
       "    </tr>\n",
       "  </tbody>\n",
       "</table>\n",
       "<p>5 rows × 29 columns</p>\n",
       "</div>"
      ],
      "text/plain": [
       "     iip_przest                            iip_identy  \\\n",
       "0  PL.PZGIK.200  07f182b1-9146-43e5-a62d-836c211f9ff1   \n",
       "1  PL.PZGIK.200  c845cab0-9fbf-4123-9fc3-c70e57ad17fb   \n",
       "2  PL.PZGIK.200  139e17ec-bbd6-410b-80c0-da7faea2a439   \n",
       "3  PL.PZGIK.200  65b5a197-3d86-401c-8cea-ea80c3b4bf7c   \n",
       "4  PL.PZGIK.200  258b68f9-31cb-4f37-bbdf-f1824805a0e4   \n",
       "\n",
       "                  iip_wersja jpt_sjr_ko  jpt_kod_je     jpt_nazwa_  \\\n",
       "0  2012-09-27T07:36:28+02:00        POW         226    złotoryjski   \n",
       "1  2012-09-27T07:36:28+02:00        POW         262        Legnica   \n",
       "2  2012-09-27T07:36:28+02:00        POW         206  jeleniogórski   \n",
       "3  2012-09-27T07:36:28+02:00        POW         204       górowski   \n",
       "4  2012-09-27T07:36:28+02:00        POW         214      oleśnicki   \n",
       "\n",
       "   jpt_nazw01  jpt_organ_ jpt_orga01  jpt_jor_id    ...     jpt_kod_01  \\\n",
       "0         NaN         NaN        NZN         0.0    ...            NaN   \n",
       "1         NaN         NaN        NZN         0.0    ...            NaN   \n",
       "2         NaN         NaN        NZN         0.0    ...            NaN   \n",
       "3         NaN         NaN        NZN         0.0    ...            NaN   \n",
       "4         NaN         NaN        NZN         0.0    ...            NaN   \n",
       "\n",
       "  id_bufora_ id_bufor01 id_technic jpt_opis  jpt_sps_ko gra_ids  status_obi  \\\n",
       "0        0.0    13888.0        0.0   829314         UZG     NaN    AKTUALNY   \n",
       "1        0.0    13888.0        0.0   829315         UZG     NaN    AKTUALNY   \n",
       "2        0.0    13888.0        0.0   829321         UZG     NaN    AKTUALNY   \n",
       "3        0.0    13888.0        0.0   829320         UZG     NaN    AKTUALNY   \n",
       "4        0.0    13888.0        0.0   829331         UZG     NaN    AKTUALNY   \n",
       "\n",
       "   opis_bledu  typ_bledu  \n",
       "0         NaN        NaN  \n",
       "1         NaN        NaN  \n",
       "2         NaN        NaN  \n",
       "3         NaN        NaN  \n",
       "4         NaN        NaN  \n",
       "\n",
       "[5 rows x 29 columns]"
      ]
     },
     "execution_count": 19,
     "metadata": {},
     "output_type": "execute_result"
    }
   ],
   "source": [
    "data.head()"
   ]
  },
  {
   "cell_type": "markdown",
   "metadata": {},
   "source": [
    "I porównajmy to z tym co mamy w Tabeli GUS."
   ]
  },
  {
   "cell_type": "code",
   "execution_count": 20,
   "metadata": {
    "scrolled": true
   },
   "outputs": [
    {
     "data": {
      "text/html": [
       "<div>\n",
       "<style>\n",
       "    .dataframe thead tr:only-child th {\n",
       "        text-align: right;\n",
       "    }\n",
       "\n",
       "    .dataframe thead th {\n",
       "        text-align: left;\n",
       "    }\n",
       "\n",
       "    .dataframe tbody tr th {\n",
       "        vertical-align: top;\n",
       "    }\n",
       "</style>\n",
       "<table border=\"1\" class=\"dataframe\">\n",
       "  <thead>\n",
       "    <tr style=\"text-align: right;\">\n",
       "      <th></th>\n",
       "      <th>powiat</th>\n",
       "      <th>unemployment_ratio</th>\n",
       "      <th>class</th>\n",
       "    </tr>\n",
       "  </thead>\n",
       "  <tbody>\n",
       "    <tr>\n",
       "      <th>0</th>\n",
       "      <td>Bolesławiecki</td>\n",
       "      <td>4.8</td>\n",
       "      <td>II</td>\n",
       "    </tr>\n",
       "    <tr>\n",
       "      <th>1</th>\n",
       "      <td>Dzierżoniowski</td>\n",
       "      <td>8.3</td>\n",
       "      <td>III</td>\n",
       "    </tr>\n",
       "    <tr>\n",
       "      <th>2</th>\n",
       "      <td>Głogowski</td>\n",
       "      <td>9.8</td>\n",
       "      <td>IV</td>\n",
       "    </tr>\n",
       "    <tr>\n",
       "      <th>3</th>\n",
       "      <td>Górowski</td>\n",
       "      <td>16.0</td>\n",
       "      <td>VI</td>\n",
       "    </tr>\n",
       "    <tr>\n",
       "      <th>4</th>\n",
       "      <td>Jaworski</td>\n",
       "      <td>13.7</td>\n",
       "      <td>V</td>\n",
       "    </tr>\n",
       "  </tbody>\n",
       "</table>\n",
       "</div>"
      ],
      "text/plain": [
       "           powiat  unemployment_ratio class\n",
       "0   Bolesławiecki                 4.8    II\n",
       "1  Dzierżoniowski                 8.3   III\n",
       "2       Głogowski                 9.8    IV\n",
       "3        Górowski                16.0    VI\n",
       "4        Jaworski                13.7     V"
      ]
     },
     "execution_count": 20,
     "metadata": {},
     "output_type": "execute_result"
    }
   ],
   "source": [
    "dane_p.head()"
   ]
  },
  {
   "cell_type": "markdown",
   "metadata": {},
   "source": [
    "Policzmy, ile nazw powiatów jest __niezbieżnych__ pomiędzy Tabelą GUS i Tabelą Atrybutów."
   ]
  },
  {
   "cell_type": "code",
   "execution_count": 21,
   "metadata": {},
   "outputs": [
    {
     "data": {
      "text/plain": [
       "315"
      ]
     },
     "execution_count": 21,
     "metadata": {},
     "output_type": "execute_result"
    }
   ],
   "source": [
    "inconsistent_powiat = []\n",
    "for name in data[\"jpt_nazwa_\"]:\n",
    "    if name not in dane_p[\"powiat\"].tolist():\n",
    "        inconsistent_powiat.append(name)\n",
    "len(inconsistent_powiat)"
   ]
  },
  {
   "cell_type": "markdown",
   "metadata": {},
   "source": [
    "Wśród nich mamy:"
   ]
  },
  {
   "cell_type": "code",
   "execution_count": 22,
   "metadata": {},
   "outputs": [
    {
     "data": {
      "text/plain": [
       "['złotoryjski',\n",
       " 'jeleniogórski',\n",
       " 'górowski',\n",
       " 'oleśnicki',\n",
       " 'bolesławiecki',\n",
       " 'kłodzki',\n",
       " 'lubański',\n",
       " 'wałbrzyski',\n",
       " 'dzierżoniowski',\n",
       " 'trzebnicki']"
      ]
     },
     "execution_count": 22,
     "metadata": {},
     "output_type": "execute_result"
    }
   ],
   "source": [
    "inconsistent_powiat[:10]"
   ]
  },
  {
   "cell_type": "markdown",
   "metadata": {},
   "source": [
    "Jak widzimy problem dotyczy nazw kończących się na \"ski\" oraz \"cki\". Zmieńmy zatem wielkie litery na małe w Tabeli GUS dla nazw spełniających to kryterium  i przeprowadźmy test znowu."
   ]
  },
  {
   "cell_type": "code",
   "execution_count": 23,
   "metadata": {
    "collapsed": true
   },
   "outputs": [],
   "source": [
    "import re\n",
    "\n",
    "pattern = re.compile(\"ki$\")\n",
    "\n",
    "def ki_destructor(word):\n",
    "    if pattern.search(word):\n",
    "        return word.lower()\n",
    "    return word"
   ]
  },
  {
   "cell_type": "code",
   "execution_count": 24,
   "metadata": {
    "collapsed": true
   },
   "outputs": [],
   "source": [
    "dane_p[\"powiat\"] = dane_p[\"powiat\"].apply(ki_destructor)"
   ]
  },
  {
   "cell_type": "markdown",
   "metadata": {},
   "source": [
    "Po aplikacji funkcji, dalej kilka powiatów się nie zgadza."
   ]
  },
  {
   "cell_type": "code",
   "execution_count": 25,
   "metadata": {
    "scrolled": true
   },
   "outputs": [
    {
     "data": {
      "text/plain": [
       "6"
      ]
     },
     "execution_count": 25,
     "metadata": {},
     "output_type": "execute_result"
    }
   ],
   "source": [
    "inconsistent_powiat = []\n",
    "for name in data[\"jpt_nazwa_\"]:\n",
    "    if name not in dane_p[\"powiat\"].tolist():\n",
    "        inconsistent_powiat.append(name)\n",
    "len(inconsistent_powiat)"
   ]
  },
  {
   "cell_type": "code",
   "execution_count": 26,
   "metadata": {},
   "outputs": [
    {
     "data": {
      "text/plain": [
       "['Piotrków Trybunalski',\n",
       " 'łódzki wschodni',\n",
       " 'Gorzów Wielkopolski',\n",
       " 'Warszawa',\n",
       " 'warszawski zachodni',\n",
       " 'Suwałki']"
      ]
     },
     "execution_count": 26,
     "metadata": {},
     "output_type": "execute_result"
    }
   ],
   "source": [
    "inconsistent_powiat"
   ]
  },
  {
   "cell_type": "markdown",
   "metadata": {},
   "source": [
    "Zlokalizujmy, jak wyglądają poszczególne powiaty w Tabeli GUS."
   ]
  },
  {
   "cell_type": "code",
   "execution_count": 27,
   "metadata": {},
   "outputs": [
    {
     "data": {
      "text/html": [
       "<div>\n",
       "<style>\n",
       "    .dataframe thead tr:only-child th {\n",
       "        text-align: right;\n",
       "    }\n",
       "\n",
       "    .dataframe thead th {\n",
       "        text-align: left;\n",
       "    }\n",
       "\n",
       "    .dataframe tbody tr th {\n",
       "        vertical-align: top;\n",
       "    }\n",
       "</style>\n",
       "<table border=\"1\" class=\"dataframe\">\n",
       "  <thead>\n",
       "    <tr style=\"text-align: right;\">\n",
       "      <th></th>\n",
       "      <th>powiat</th>\n",
       "      <th>unemployment_ratio</th>\n",
       "      <th>class</th>\n",
       "    </tr>\n",
       "  </thead>\n",
       "  <tbody>\n",
       "    <tr>\n",
       "      <th>89</th>\n",
       "      <td>gorzów wielkopolski</td>\n",
       "      <td>3.4</td>\n",
       "      <td>I</td>\n",
       "    </tr>\n",
       "    <tr>\n",
       "      <th>113</th>\n",
       "      <td>piotrków trybunalski</td>\n",
       "      <td>6.4</td>\n",
       "      <td>II</td>\n",
       "    </tr>\n",
       "    <tr>\n",
       "      <th>232</th>\n",
       "      <td>suwałki</td>\n",
       "      <td>6.4</td>\n",
       "      <td>II</td>\n",
       "    </tr>\n",
       "  </tbody>\n",
       "</table>\n",
       "</div>"
      ],
      "text/plain": [
       "                   powiat  unemployment_ratio class\n",
       "89    gorzów wielkopolski                 3.4     I\n",
       "113  piotrków trybunalski                 6.4    II\n",
       "232               suwałki                 6.4    II"
      ]
     },
     "execution_count": 27,
     "metadata": {},
     "output_type": "execute_result"
    }
   ],
   "source": [
    "dane_p.loc[dane_p['powiat'].isin([\"piotrków trybunalski\", \"suwałki\", \"gorzów wielkopolski\"])]"
   ]
  },
  {
   "cell_type": "markdown",
   "metadata": {},
   "source": [
    "Dla Piotrkowa / Gorzowa i Suwałk nasza konwersja dokonała niepotrzebnych modyfikacji. Cofnijmy je. "
   ]
  },
  {
   "cell_type": "code",
   "execution_count": 28,
   "metadata": {
    "collapsed": true
   },
   "outputs": [],
   "source": [
    "for i in [89, 113, 232]:\n",
    "    dane_p['powiat'][i] = dane_p['powiat'][i].title()"
   ]
  },
  {
   "cell_type": "markdown",
   "metadata": {},
   "source": [
    "Teraz czas na Warszawę"
   ]
  },
  {
   "cell_type": "code",
   "execution_count": 29,
   "metadata": {
    "scrolled": true
   },
   "outputs": [
    {
     "data": {
      "text/html": [
       "<div>\n",
       "<style>\n",
       "    .dataframe thead tr:only-child th {\n",
       "        text-align: right;\n",
       "    }\n",
       "\n",
       "    .dataframe thead th {\n",
       "        text-align: left;\n",
       "    }\n",
       "\n",
       "    .dataframe tbody tr th {\n",
       "        vertical-align: top;\n",
       "    }\n",
       "</style>\n",
       "<table border=\"1\" class=\"dataframe\">\n",
       "  <thead>\n",
       "    <tr style=\"text-align: right;\">\n",
       "      <th></th>\n",
       "      <th>powiat</th>\n",
       "      <th>unemployment_ratio</th>\n",
       "      <th>class</th>\n",
       "    </tr>\n",
       "  </thead>\n",
       "  <tbody>\n",
       "    <tr>\n",
       "      <th>167</th>\n",
       "      <td>Warszawski  zachodni</td>\n",
       "      <td>2.8</td>\n",
       "      <td>I</td>\n",
       "    </tr>\n",
       "    <tr>\n",
       "      <th>178</th>\n",
       "      <td>M.st. Warszawa</td>\n",
       "      <td>2.4</td>\n",
       "      <td>I</td>\n",
       "    </tr>\n",
       "  </tbody>\n",
       "</table>\n",
       "</div>"
      ],
      "text/plain": [
       "                   powiat  unemployment_ratio class\n",
       "167  Warszawski  zachodni                 2.8     I\n",
       "178        M.st. Warszawa                 2.4     I"
      ]
     },
     "execution_count": 29,
     "metadata": {},
     "output_type": "execute_result"
    }
   ],
   "source": [
    "dane_p.loc[dane_p[\"powiat\"].str.contains(\"arszaw\")]"
   ]
  },
  {
   "cell_type": "markdown",
   "metadata": {},
   "source": [
    "Przekonwertujmy na odpowiedni string."
   ]
  },
  {
   "cell_type": "code",
   "execution_count": 30,
   "metadata": {
    "collapsed": true
   },
   "outputs": [],
   "source": [
    "dane_p['powiat'][167] = \"warszawski zachodni\"\n",
    "dane_p.loc[178, 'powiat'] = \"Warszawa\""
   ]
  },
  {
   "cell_type": "markdown",
   "metadata": {},
   "source": [
    "I została nam jeszcze Łódź Wschód do wyeliminowania:"
   ]
  },
  {
   "cell_type": "code",
   "execution_count": 31,
   "metadata": {},
   "outputs": [
    {
     "data": {
      "text/html": [
       "<div>\n",
       "<style>\n",
       "    .dataframe thead tr:only-child th {\n",
       "        text-align: right;\n",
       "    }\n",
       "\n",
       "    .dataframe thead th {\n",
       "        text-align: left;\n",
       "    }\n",
       "\n",
       "    .dataframe tbody tr th {\n",
       "        vertical-align: top;\n",
       "    }\n",
       "</style>\n",
       "<table border=\"1\" class=\"dataframe\">\n",
       "  <thead>\n",
       "    <tr style=\"text-align: right;\">\n",
       "      <th></th>\n",
       "      <th>powiat</th>\n",
       "      <th>unemployment_ratio</th>\n",
       "      <th>class</th>\n",
       "    </tr>\n",
       "  </thead>\n",
       "  <tbody>\n",
       "    <tr>\n",
       "      <th>97</th>\n",
       "      <td>Łódzki wschodni</td>\n",
       "      <td>8.3</td>\n",
       "      <td>III</td>\n",
       "    </tr>\n",
       "  </tbody>\n",
       "</table>\n",
       "</div>"
      ],
      "text/plain": [
       "             powiat  unemployment_ratio class\n",
       "97  Łódzki wschodni                 8.3   III"
      ]
     },
     "execution_count": 31,
     "metadata": {},
     "output_type": "execute_result"
    }
   ],
   "source": [
    "dane_p.loc[dane_p[\"powiat\"].str.contains(\"wschod\")]"
   ]
  },
  {
   "cell_type": "code",
   "execution_count": 32,
   "metadata": {
    "collapsed": true,
    "scrolled": false
   },
   "outputs": [],
   "source": [
    "dane_p['powiat'][97] = dane_p['powiat'][97].lower()"
   ]
  },
  {
   "cell_type": "markdown",
   "metadata": {},
   "source": [
    "Zapisujemy bazę:"
   ]
  },
  {
   "cell_type": "code",
   "execution_count": 33,
   "metadata": {
    "collapsed": true
   },
   "outputs": [],
   "source": [
    "dane_p.to_csv(\"dane/unemployment_rate_class.csv\")"
   ]
  },
  {
   "cell_type": "markdown",
   "metadata": {},
   "source": [
    "i przerzuczamy ją do QGIS."
   ]
  },
  {
   "cell_type": "markdown",
   "metadata": {},
   "source": [
    "![zapisywanie](pics/dodaj_warstwe_csv.png)"
   ]
  },
  {
   "cell_type": "markdown",
   "metadata": {},
   "source": [
    "Istotny jest wybór opcji \"bez geometrii (tylko tabela atrybutów)\" - dane, które pobieramy, są tylko liczbowe i nie zawierają żadnych współrzednych, mogących kreować mapę. "
   ]
  },
  {
   "cell_type": "markdown",
   "metadata": {},
   "source": [
    "![zapisywanie](pics/zapis_do_csv.png)"
   ]
  },
  {
   "cell_type": "markdown",
   "metadata": {},
   "source": [
    "Czas na właściwe łączenie danych, pomiędzy Tabelą Atrybutów a Tabelą GUS. Przechodzimy do zakładki \"Złączenia\" we właściwościach warstwy \"powiaty\". "
   ]
  },
  {
   "cell_type": "markdown",
   "metadata": {},
   "source": [
    "![joint1](pics/joint1.png)"
   ]
  },
  {
   "cell_type": "markdown",
   "metadata": {},
   "source": [
    "![joint2](pics/joint2.png)"
   ]
  },
  {
   "cell_type": "markdown",
   "metadata": {},
   "source": [
    "Wybieramy pole Tabeli GUS \"powiat\" i pole złączenia Tabeli Atrybutów (\"jpt_nazwa\"). Wybieramy również pola, które chcemy dołączyć."
   ]
  },
  {
   "cell_type": "markdown",
   "metadata": {},
   "source": [
    "![joint3](pics/joint3.png)"
   ]
  },
  {
   "cell_type": "markdown",
   "metadata": {},
   "source": [
    "W tabeli atrybutów pojawiły sie trzy kolumny - z nazwą powiatu, stopą bezrobocia oraz kategorią powiatu w odniesieniu do krajowej stopy bezrobocia."
   ]
  },
  {
   "cell_type": "markdown",
   "metadata": {},
   "source": [
    "![joint4](pics/joint4.png)"
   ]
  },
  {
   "cell_type": "markdown",
   "metadata": {},
   "source": [
    "W zakładce wlaściwości w warstwie powiaty możemy teraz modelować wartości unikalne po dobraniu kolumny oraz palety kolorów i kliknięciu klasyfikuj skontruowaliśmy mapę Polski z podziałem na powiaty."
   ]
  },
  {
   "cell_type": "markdown",
   "metadata": {},
   "source": [
    "![etykiety](pics/etykiety.png)"
   ]
  },
  {
   "cell_type": "markdown",
   "metadata": {},
   "source": [
    "Możemy również zaznaczyć przy jakim zbliżeniu pojawią się nazwy powiatów. Ustawiłem renderowanie na skalę mniejszą od 1:5000000."
   ]
  },
  {
   "cell_type": "markdown",
   "metadata": {},
   "source": [
    "![renderowanie](pics/renderowanie.png)"
   ]
  },
  {
   "cell_type": "markdown",
   "metadata": {},
   "source": [
    "Bo zbliżeniu uzyskujemy następujący widok: \n",
    "![dolny](pics/dolnyslask.png)"
   ]
  },
  {
   "cell_type": "markdown",
   "metadata": {},
   "source": [
    "## I nie widać zaborów"
   ]
  },
  {
   "cell_type": "markdown",
   "metadata": {},
   "source": [
    "![calosc](pics/calosc.png)"
   ]
  },
  {
   "cell_type": "markdown",
   "metadata": {
    "collapsed": true
   },
   "source": [
    "Tak stworzoną mapę możemy skonwertować na prostą stronę interneową za pomoca wtyczki qgis2web. \n",
    "\n",
    "Moja wersja dostepna jest tutaj razem z wyszukiwarką powiatów oraz prostym kalkulatorem pomocy publicznej (link pojawia się po kliknięciu w dany powiat). [LINK]"
   ]
  },
  {
   "cell_type": "markdown",
   "metadata": {
    "collapsed": true
   },
   "source": [
    "## Bibliografia"
   ]
  },
  {
   "cell_type": "markdown",
   "metadata": {},
   "source": [
    "1. Projekt rozporządzenia - http://legislacja.rcl.gov.pl/projekt/12311957/katalog/12510945#12510945\n",
    "2. Ustawa o z dnia 10 maja 2018 r.o wspieraniu nowych inwestycji - http://orka.sejm.gov.pl/proc8.nsf/ustawy/2307_u.htm\n",
    "3. Obwieszczenie w sprawie przeciętnej stopy bezrobocia w kraju oraz na obszarze powiatów stan na dzień 30 czerwca 2017 roku - https://stat.gov.pl/sygnalne/komunikaty-i-obwieszczenia/lista-komunikatow-i-obwieszczen/obwieszczenie-w-sprawie-przecietnej-stopy-bezrobocia-w-kraju-oraz-na-obszarze-powiatow-stan-na-dzien-30-czerwca-2017-roku,284,4.html"
   ]
  },
  {
   "cell_type": "code",
   "execution_count": null,
   "metadata": {
    "collapsed": true
   },
   "outputs": [],
   "source": []
  }
 ],
 "metadata": {
  "kernelspec": {
   "display_name": "Python 3",
   "language": "python",
   "name": "python3"
  },
  "language_info": {
   "codemirror_mode": {
    "name": "ipython",
    "version": 3
   },
   "file_extension": ".py",
   "mimetype": "text/x-python",
   "name": "python",
   "nbconvert_exporter": "python",
   "pygments_lexer": "ipython3",
   "version": "3.5.2"
  },
  "toc": {
   "nav_menu": {
    "height": "262px",
    "width": "212px"
   },
   "number_sections": true,
   "sideBar": true,
   "skip_h1_title": true,
   "toc_cell": true,
   "toc_position": {
    "height": "40px",
    "left": "0px",
    "right": "1849.11px",
    "top": "107px",
    "width": "212px"
   },
   "toc_section_display": "block",
   "toc_window_display": true
  }
 },
 "nbformat": 4,
 "nbformat_minor": 2
}
