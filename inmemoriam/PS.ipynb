{
 "cells": [
  {
   "cell_type": "markdown",
   "metadata": {
    "toc": true
   },
   "source": [
    "<h1>Table of Contents<span class=\"tocSkip\"></span></h1>\n",
    "<div class=\"toc\" style=\"margin-top: 1em;\"><ul class=\"toc-item\"><li><span><a href=\"#PS\" data-toc-modified-id=\"PS-1\"><span class=\"toc-item-num\">1&nbsp;&nbsp;</span>PS</a></span><ul class=\"toc-item\"><li><ul class=\"toc-item\"><li><span><a href=\"#Jak-wygląda-struktura-interpertacji?\" data-toc-modified-id=\"Jak-wygląda-struktura-interpertacji?-1.0.1\"><span class=\"toc-item-num\">1.0.1&nbsp;&nbsp;</span>Jak wygląda struktura interpertacji?</a></span></li><li><span><a href=\"#Podział-na-tokeny\" data-toc-modified-id=\"Podział-na-tokeny-1.0.2\"><span class=\"toc-item-num\">1.0.2&nbsp;&nbsp;</span>Podział na tokeny</a></span></li></ul></li></ul></li></ul></div>"
   ]
  },
  {
   "cell_type": "markdown",
   "metadata": {},
   "source": [
    "## PS\n",
    "\n",
    "#### Jak wygląda struktura interpertacji? \n",
    "\n",
    "Intepretacje ściągnąłem za pomocą webscrapera z [bazy Ministerstwa Finansów](http://sip.mf.gov.pl), natomiast klasyfikacja była dość bardziej skomplikowana.\n",
    "\n",
    "W ściągniętej interpretacji w pewny sposób można wyodrębnić następujące informacje:\n",
    "\n",
    "1. dzień, miesiąc i rok wydania interpretacji,\n",
    "\n",
    "2. tekst interpretacji.\n",
    "\n",
    "3. autor\n",
    "\n",
    "4. sygnatura\n",
    "\n",
    "W systemie SIP większość interpretacji zawiera również następujące pola:\n",
    "\n",
    "1. słowa kluczowe,\n",
    "\n",
    "2. istotę interpretacji,\n",
    "\n",
    "3. stanowisko,\n",
    "\n",
    "4. klasyfikację wg przepisów\n",
    "\n",
    "Co do tego, jakiego podatku dotyczą - istnieje teoretycznie możliwość klasyfikacji interpretacji podczas jej wprowadzenia i nadania jej odpowiednich słów kluczy czy klasyfikacji wg przepisów. Niemniej doświadczenie mnie nauczyło, że **ten klucz nie zawsze był wprowadzany**. Lepszym miernikiem jest akapit rozpoczynający interpretację; według niego przeprowadziłem klasyfikację. W przypadku problemów, klasyfikacja nastąpiła ręcznie (dotyczy to około 200 interpretacji).\n",
    "\n",
    "#### Podział na tokeny\n",
    "\n",
    "Poniżej prosty tokenizer oparty o silnik Morfeusza. Z tego względu, że cały projekt powstawał w Python 3, a biblioteka dynamiczna Morfeusza została napisana na potrzeby Python2 musiałem stworzyć drobne API odpalające analyser z Morfeusza w Python 3."
   ]
  },
  {
   "cell_type": "code",
   "execution_count": 2,
   "metadata": {
    "collapsed": true
   },
   "outputs": [],
   "source": [
    "import execnet\n",
    "\n",
    "def token_converter(text):\n",
    "    gw = execnet.makegateway(\"popen//python=python2.7\")\n",
    "\n",
    "    channel = gw.remote_exec(\n",
    "        \"\"\"import morfeusz2 as morf\n",
    "import gc\n",
    "\n",
    "def converter(text):\n",
    "    \n",
    "    analyzer = morf.Morfeusz()\n",
    "\n",
    "    text = analyzer.analyse(text)\n",
    "    \n",
    "    \n",
    "            \n",
    "    return text\n",
    "\n",
    "text = channel.receive()\n",
    "channel.send(converter(text))\n",
    "\n",
    "del converter\n",
    "del text\n",
    "del morf\n",
    "\"\"\")\n",
    "    channel.reconfigure(py2str_as_py3str=False)\n",
    "    channel.send(text)\n",
    "    text = channel.receive()\n",
    "    channel.close()\n",
    "    execnet.default_group.terminate()\n",
    "    return text"
   ]
  },
  {
   "cell_type": "code",
   "execution_count": null,
   "metadata": {
    "collapsed": true
   },
   "outputs": [],
   "source": []
  }
 ],
 "metadata": {
  "kernelspec": {
   "display_name": "Python 3",
   "language": "python",
   "name": "python3"
  },
  "language_info": {
   "codemirror_mode": {
    "name": "ipython",
    "version": 3
   },
   "file_extension": ".py",
   "mimetype": "text/x-python",
   "name": "python",
   "nbconvert_exporter": "python",
   "pygments_lexer": "ipython3",
   "version": "3.5.2"
  },
  "toc": {
   "nav_menu": {},
   "number_sections": true,
   "sideBar": true,
   "skip_h1_title": true,
   "toc_cell": true,
   "toc_position": {},
   "toc_section_display": "block",
   "toc_window_display": false
  }
 },
 "nbformat": 4,
 "nbformat_minor": 2
}
